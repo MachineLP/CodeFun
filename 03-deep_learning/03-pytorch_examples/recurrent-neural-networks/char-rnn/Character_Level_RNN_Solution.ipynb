{
 "cells": [
  {
   "cell_type": "markdown",
   "metadata": {},
   "source": [
    "# Character-Level LSTM in PyTorch\n",
    "\n",
    "In this notebook, I'll construct a character-level LSTM with PyTorch. The network will train character by character on some text, then generate new text character by character. As an example, I will train on Anna Karenina. **This model will be able to generate new text based on the text from the book!**\n",
    "\n",
    "This network is based off of Andrej Karpathy's [post on RNNs](http://karpathy.github.io/2015/05/21/rnn-effectiveness/) and [implementation in Torch](https://github.com/karpathy/char-rnn). Below is the general architecture of the character-wise RNN.\n",
    "\n",
    "<img src=\"assets/charseq.jpeg\" width=\"500\">"
   ]
  },
  {
   "cell_type": "markdown",
   "metadata": {},
   "source": [
    "First let's load in our required resources for data loading and model creation."
   ]
  },
  {
   "cell_type": "code",
   "execution_count": 1,
   "metadata": {
    "collapsed": true
   },
   "outputs": [],
   "source": [
    "import numpy as np\n",
    "import torch\n",
    "from torch import nn\n",
    "import torch.nn.functional as F"
   ]
  },
  {
   "cell_type": "markdown",
   "metadata": {},
   "source": [
    "## Load in Data\n",
    "\n",
    "Then, we'll load the Anna Karenina text file and convert it into integers for our network to use. "
   ]
  },
  {
   "cell_type": "code",
   "execution_count": 2,
   "metadata": {
    "collapsed": true
   },
   "outputs": [],
   "source": [
    "# open text file and read in data as `text`\n",
    "with open('data/anna.txt', 'r') as f:\n",
    "    text = f.read()"
   ]
  },
  {
   "cell_type": "markdown",
   "metadata": {},
   "source": [
    "Let's check out the first 100 characters, make sure everything is peachy. According to the [American Book Review](http://americanbookreview.org/100bestlines.asp), this is the 6th best first line of a book ever."
   ]
  },
  {
   "cell_type": "code",
   "execution_count": 3,
   "metadata": {},
   "outputs": [
    {
     "data": {
      "text/plain": [
       "'Chapter 1\\n\\n\\nHappy families are all alike; every unhappy family is unhappy in its own\\nway.\\n\\nEverythin'"
      ]
     },
     "execution_count": 3,
     "metadata": {},
     "output_type": "execute_result"
    }
   ],
   "source": [
    "text[:100]"
   ]
  },
  {
   "cell_type": "markdown",
   "metadata": {},
   "source": [
    "### Tokenization\n",
    "\n",
    "In the cells, below, I'm creating a couple **dictionaries** to convert the characters to and from integers. Encoding the characters as integers makes it easier to use as input in the network."
   ]
  },
  {
   "cell_type": "code",
   "execution_count": 4,
   "metadata": {
    "collapsed": true
   },
   "outputs": [],
   "source": [
    "# encode the text and map each character to an integer and vice versa\n",
    "\n",
    "# we create two dictionaries:\n",
    "# 1. int2char, which maps integers to characters\n",
    "# 2. char2int, which maps characters to unique integers\n",
    "chars = tuple(set(text))\n",
    "int2char = dict(enumerate(chars))\n",
    "char2int = {ch: ii for ii, ch in int2char.items()}\n",
    "\n",
    "# encode the text\n",
    "encoded = np.array([char2int[ch] for ch in text])"
   ]
  },
  {
   "cell_type": "markdown",
   "metadata": {},
   "source": [
    "And we can see those same characters from above, encoded as integers."
   ]
  },
  {
   "cell_type": "code",
   "execution_count": 5,
   "metadata": {},
   "outputs": [
    {
     "data": {
      "text/plain": [
       "array([65, 12, 19, 35, 59, 47, 80, 21,  8, 24, 24, 24, 32, 19, 35, 35, 45,\n",
       "       21, 46, 19, 72,  0, 25,  0, 47, 23, 21, 19, 80, 47, 21, 19, 25, 25,\n",
       "       21, 19, 25,  0, 76, 47, 50, 21, 47, 56, 47, 80, 45, 21, 44,  2, 12,\n",
       "       19, 35, 35, 45, 21, 46, 19, 72,  0, 25, 45, 21,  0, 23, 21, 44,  2,\n",
       "       12, 19, 35, 35, 45, 21,  0,  2, 21,  0, 59, 23, 21, 81, 14,  2, 24,\n",
       "       14, 19, 45,  9, 24, 24, 61, 56, 47, 80, 45, 59, 12,  0,  2])"
      ]
     },
     "execution_count": 5,
     "metadata": {},
     "output_type": "execute_result"
    }
   ],
   "source": [
    "encoded[:100]"
   ]
  },
  {
   "cell_type": "markdown",
   "metadata": {},
   "source": [
    "## Pre-processing the data\n",
    "\n",
    "As you can see in our char-RNN image above, our LSTM expects an input that is **one-hot encoded** meaning that each character is converted into an integer (via our created dictionary) and *then* converted into a column vector where only it's corresponding integer index will have the value of 1 and the rest of the vector will be filled with 0's. Since we're one-hot encoding the data, let's make a function to do that!\n"
   ]
  },
  {
   "cell_type": "code",
   "execution_count": 6,
   "metadata": {
    "collapsed": true
   },
   "outputs": [],
   "source": [
    "def one_hot_encode(arr, n_labels):\n",
    "    \n",
    "    # Initialize the the encoded array\n",
    "    one_hot = np.zeros((arr.size, n_labels), dtype=np.float32)\n",
    "    \n",
    "    # Fill the appropriate elements with ones\n",
    "    one_hot[np.arange(one_hot.shape[0]), arr.flatten()] = 1.\n",
    "    \n",
    "    # Finally reshape it to get back to the original array\n",
    "    one_hot = one_hot.reshape((*arr.shape, n_labels))\n",
    "    \n",
    "    return one_hot"
   ]
  },
  {
   "cell_type": "code",
   "execution_count": 7,
   "metadata": {},
   "outputs": [
    {
     "name": "stdout",
     "output_type": "stream",
     "text": [
      "[[[ 0.  0.  0.  1.  0.  0.  0.  0.]\n",
      "  [ 0.  0.  0.  0.  0.  1.  0.  0.]\n",
      "  [ 0.  1.  0.  0.  0.  0.  0.  0.]]]\n"
     ]
    }
   ],
   "source": [
    "# check that the function works as expected\n",
    "test_seq = np.array([[3, 5, 1]])\n",
    "one_hot = one_hot_encode(test_seq, 8)\n",
    "\n",
    "print(one_hot)"
   ]
  },
  {
   "cell_type": "markdown",
   "metadata": {},
   "source": [
    "## Making training mini-batches\n",
    "\n",
    "\n",
    "To train on this data, we also want to create mini-batches for training. Remember that we want our batches to be multiple sequences of some desired number of sequence steps. Considering a simple example, our batches would look like this:\n",
    "\n",
    "<img src=\"assets/sequence_batching@1x.png\" width=500px>\n",
    "\n",
    "\n",
    "<br>\n",
    "\n",
    "In this example, we'll take the encoded characters (passed in as the `arr` parameter) and split them into multiple sequences, given by `batch_size`. Each of our sequences will be `seq_length` long.\n",
    "\n",
    "### Creating Batches\n",
    "\n",
    "**1. The first thing we need to do is discard some of the text so we only have completely full mini-batches. **\n",
    "\n",
    "Each batch contains $N \\times M$ characters, where $N$ is the batch size (the number of sequences in a batch) and $M$ is the seq_length or number of time steps in a sequence. Then, to get the total number of batches, $K$, that we can make from the array `arr`, you divide the length of `arr` by the number of characters per batch. Once you know the number of batches, you can get the total number of characters to keep from `arr`, $N * M * K$.\n",
    "\n",
    "**2. After that, we need to split `arr` into $N$ batches. ** \n",
    "\n",
    "You can do this using `arr.reshape(size)` where `size` is a tuple containing the dimensions sizes of the reshaped array. We know we want $N$ sequences in a batch, so let's make that the size of the first dimension. For the second dimension, you can use `-1` as a placeholder in the size, it'll fill up the array with the appropriate data for you. After this, you should have an array that is $N \\times (M * K)$.\n",
    "\n",
    "**3. Now that we have this array, we can iterate through it to get our mini-batches. **\n",
    "\n",
    "The idea is each batch is a $N \\times M$ window on the $N \\times (M * K)$ array. For each subsequent batch, the window moves over by `seq_length`. We also want to create both the input and target arrays. Remember that the targets are just the inputs shifted over by one character. The way I like to do this window is use `range` to take steps of size `n_steps` from $0$ to `arr.shape[1]`, the total number of tokens in each sequence. That way, the integers you get from `range` always point to the start of a batch, and each window is `seq_length` wide.\n",
    "\n",
    "> **TODO:** Write the code for creating batches in the function below. The exercises in this notebook _will not be easy_. I've provided a notebook with solutions alongside this notebook. If you get stuck, checkout the solutions. The most important thing is that you don't copy and paste the code into here, **type out the solution code yourself.**"
   ]
  },
  {
   "cell_type": "code",
   "execution_count": 8,
   "metadata": {
    "collapsed": true
   },
   "outputs": [],
   "source": [
    "def get_batches(arr, batch_size, seq_length):\n",
    "    '''Create a generator that returns batches of size\n",
    "       batch_size x seq_length from arr.\n",
    "       \n",
    "       Arguments\n",
    "       ---------\n",
    "       arr: Array you want to make batches from\n",
    "       batch_size: Batch size, the number of sequences per batch\n",
    "       seq_length: Number of encoded chars in a sequence\n",
    "    '''\n",
    "    \n",
    "    batch_size_total = batch_size * seq_length\n",
    "    # total number of batches we can make\n",
    "    n_batches = len(arr)//batch_size_total\n",
    "    \n",
    "    # Keep only enough characters to make full batches\n",
    "    arr = arr[:n_batches * batch_size_total]\n",
    "    # Reshape into batch_size rows\n",
    "    arr = arr.reshape((batch_size, -1))\n",
    "    \n",
    "    # iterate through the array, one sequence at a time\n",
    "    for n in range(0, arr.shape[1], seq_length):\n",
    "        # The features\n",
    "        x = arr[:, n:n+seq_length]\n",
    "        # The targets, shifted by one\n",
    "        y = np.zeros_like(x)\n",
    "        try:\n",
    "            y[:, :-1], y[:, -1] = x[:, 1:], arr[:, n+seq_length]\n",
    "        except IndexError:\n",
    "            y[:, :-1], y[:, -1] = x[:, 1:], arr[:, 0]\n",
    "        yield x, y"
   ]
  },
  {
   "cell_type": "markdown",
   "metadata": {},
   "source": [
    "### Test Your Implementation\n",
    "\n",
    "Now I'll make some data sets and we can check out what's going on as we batch data. Here, as an example, I'm going to use a batch size of 8 and 50 sequence steps."
   ]
  },
  {
   "cell_type": "code",
   "execution_count": 9,
   "metadata": {
    "collapsed": true
   },
   "outputs": [],
   "source": [
    "batches = get_batches(encoded, 8, 50)\n",
    "x, y = next(batches)"
   ]
  },
  {
   "cell_type": "code",
   "execution_count": 10,
   "metadata": {},
   "outputs": [
    {
     "name": "stdout",
     "output_type": "stream",
     "text": [
      "x\n",
      " [[65 12 19 35 59 47 80 21  8 24]\n",
      " [23 81  2 21 59 12 19 59 21 19]\n",
      " [47  2 77 21 81 80 21 19 21 46]\n",
      " [23 21 59 12 47 21 40 12  0 47]\n",
      " [21 23 19 14 21 12 47 80 21 59]\n",
      " [40 44 23 23  0 81  2 21 19  2]\n",
      " [21 57  2  2 19 21 12 19 77 21]\n",
      " [27 26 25 81  2 23 76 45  9 21]]\n",
      "\n",
      "y\n",
      " [[12 19 35 59 47 80 21  8 24 24]\n",
      " [81  2 21 59 12 19 59 21 19 59]\n",
      " [ 2 77 21 81 80 21 19 21 46 81]\n",
      " [21 59 12 47 21 40 12  0 47 46]\n",
      " [23 19 14 21 12 47 80 21 59 47]\n",
      " [44 23 23  0 81  2 21 19  2 77]\n",
      " [57  2  2 19 21 12 19 77 21 23]\n",
      " [26 25 81  2 23 76 45  9 21 39]]\n"
     ]
    }
   ],
   "source": [
    "# printing out the first 10 items in a sequence\n",
    "print('x\\n', x[:10, :10])\n",
    "print('\\ny\\n', y[:10, :10])"
   ]
  },
  {
   "cell_type": "markdown",
   "metadata": {},
   "source": [
    "If you implemented `get_batches` correctly, the above output should look something like \n",
    "```\n",
    "x\n",
    " [[25  8 60 11 45 27 28 73  1  2]\n",
    " [17  7 20 73 45  8 60 45 73 60]\n",
    " [27 20 80 73  7 28 73 60 73 65]\n",
    " [17 73 45  8 27 73 66  8 46 27]\n",
    " [73 17 60 12 73  8 27 28 73 45]\n",
    " [66 64 17 17 46  7 20 73 60 20]\n",
    " [73 76 20 20 60 73  8 60 80 73]\n",
    " [47 35 43  7 20 17 24 50 37 73]]\n",
    "\n",
    "y\n",
    " [[ 8 60 11 45 27 28 73  1  2  2]\n",
    " [ 7 20 73 45  8 60 45 73 60 45]\n",
    " [20 80 73  7 28 73 60 73 65  7]\n",
    " [73 45  8 27 73 66  8 46 27 65]\n",
    " [17 60 12 73  8 27 28 73 45 27]\n",
    " [64 17 17 46  7 20 73 60 20 80]\n",
    " [76 20 20 60 73  8 60 80 73 17]\n",
    " [35 43  7 20 17 24 50 37 73 36]]\n",
    " ```\n",
    " although the exact numbers may be different. Check to make sure the data is shifted over one step for `y`."
   ]
  },
  {
   "cell_type": "markdown",
   "metadata": {},
   "source": [
    "---\n",
    "## Defining the network with PyTorch\n",
    "\n",
    "Below is where you'll define the network.\n",
    "\n",
    "<img src=\"assets/charRNN.png\" width=500px>\n",
    "\n",
    "Next, you'll use PyTorch to define the architecture of the network. We start by defining the layers and operations we want. Then, define a method for the forward pass. You've also been given a method for predicting characters."
   ]
  },
  {
   "cell_type": "markdown",
   "metadata": {},
   "source": [
    "### Model Structure\n",
    "\n",
    "In `__init__` the suggested structure is as follows:\n",
    "* Create and store the necessary dictionaries (this has been done for you)\n",
    "* Define an LSTM layer that takes as params: an input size (the number of characters), a hidden layer size `n_hidden`, a number of layers `n_layers`, a dropout probability `drop_prob`, and a batch_first boolean (True, since we are batching)\n",
    "* Define a dropout layer with `drop_prob`\n",
    "* Define a fully-connected layer with params: input size `n_hidden` and output size (the number of characters)\n",
    "* Finally, initialize the weights (again, this has been given)\n",
    "\n",
    "Note that some parameters have been named and given in the `__init__` function, and we use them and store them by doing something like `self.drop_prob = drop_prob`."
   ]
  },
  {
   "cell_type": "markdown",
   "metadata": {},
   "source": [
    "---\n",
    "### LSTM Inputs/Outputs\n",
    "\n",
    "You can create a basic [LSTM layer](https://pytorch.org/docs/stable/nn.html#lstm) as follows\n",
    "\n",
    "```python\n",
    "self.lstm = nn.LSTM(input_size, n_hidden, n_layers, \n",
    "                            dropout=drop_prob, batch_first=True)\n",
    "```\n",
    "\n",
    "where `input_size` is the number of characters this cell expects to see as sequential input, and `n_hidden` is the number of units in the hidden layers in the cell. And we can add dropout by adding a dropout parameter with a specified probability; this will automatically add dropout to the inputs or outputs. Finally, in the `forward` function, we can stack up the LSTM cells into layers using `.view`. With this, you pass in a list of cells and it will send the output of one cell into the next cell.\n",
    "\n",
    "We also need to create an initial hidden state of all zeros. This is done like so\n",
    "\n",
    "```python\n",
    "self.init_hidden()\n",
    "```"
   ]
  },
  {
   "cell_type": "code",
   "execution_count": 11,
   "metadata": {},
   "outputs": [
    {
     "name": "stdout",
     "output_type": "stream",
     "text": [
      "Training on GPU!\n"
     ]
    }
   ],
   "source": [
    "# check if GPU is available\n",
    "train_on_gpu = torch.cuda.is_available()\n",
    "if(train_on_gpu):\n",
    "    print('Training on GPU!')\n",
    "else: \n",
    "    print('No GPU available, training on CPU; consider making n_epochs very small.')"
   ]
  },
  {
   "cell_type": "code",
   "execution_count": 12,
   "metadata": {
    "collapsed": true
   },
   "outputs": [],
   "source": [
    "class CharRNN(nn.Module):\n",
    "    \n",
    "    def __init__(self, tokens, n_hidden=256, n_layers=2,\n",
    "                               drop_prob=0.5, lr=0.001):\n",
    "        super().__init__()\n",
    "        self.drop_prob = drop_prob\n",
    "        self.n_layers = n_layers\n",
    "        self.n_hidden = n_hidden\n",
    "        self.lr = lr\n",
    "        \n",
    "        # creating character dictionaries\n",
    "        self.chars = tokens\n",
    "        self.int2char = dict(enumerate(self.chars))\n",
    "        self.char2int = {ch: ii for ii, ch in self.int2char.items()}\n",
    "        \n",
    "        ## TODO: define the LSTM\n",
    "        self.lstm = nn.LSTM(len(self.chars), n_hidden, n_layers, \n",
    "                            dropout=drop_prob, batch_first=True)\n",
    "        \n",
    "        ## TODO: define a dropout layer\n",
    "        self.dropout = nn.Dropout(drop_prob)\n",
    "        \n",
    "        ## TODO: define the final, fully-connected output layer\n",
    "        self.fc = nn.Linear(n_hidden, len(self.chars))\n",
    "      \n",
    "    \n",
    "    def forward(self, x, hidden):\n",
    "        ''' Forward pass through the network. \n",
    "            These inputs are x, and the hidden/cell state `hidden`. '''\n",
    "                \n",
    "        ## TODO: Get the outputs and the new hidden state from the lstm\n",
    "        r_output, hidden = self.lstm(x, hidden)\n",
    "        \n",
    "        ## TODO: pass through a dropout layer\n",
    "        out = self.dropout(r_output)\n",
    "        \n",
    "        # Stack up LSTM outputs using view\n",
    "        # you may need to use contiguous to reshape the output\n",
    "        out = out.contiguous().view(-1, self.n_hidden)\n",
    "        \n",
    "        ## TODO: put x through the fully-connected layer\n",
    "        out = self.fc(out)\n",
    "        \n",
    "        # return the final output and the hidden state\n",
    "        return out, hidden\n",
    "    \n",
    "    \n",
    "    def init_hidden(self, batch_size):\n",
    "        ''' Initializes hidden state '''\n",
    "        # Create two new tensors with sizes n_layers x batch_size x n_hidden,\n",
    "        # initialized to zero, for hidden state and cell state of LSTM\n",
    "        weight = next(self.parameters()).data\n",
    "        \n",
    "        if (train_on_gpu):\n",
    "            hidden = (weight.new(self.n_layers, batch_size, self.n_hidden).zero_().cuda(),\n",
    "                  weight.new(self.n_layers, batch_size, self.n_hidden).zero_().cuda())\n",
    "        else:\n",
    "            hidden = (weight.new(self.n_layers, batch_size, self.n_hidden).zero_(),\n",
    "                      weight.new(self.n_layers, batch_size, self.n_hidden).zero_())\n",
    "        \n",
    "        return hidden\n",
    "        "
   ]
  },
  {
   "cell_type": "markdown",
   "metadata": {},
   "source": [
    "## Time to train\n",
    "\n",
    "The train function gives us the ability to set the number of epochs, the learning rate, and other parameters.\n",
    "\n",
    "Below we're using an Adam optimizer and cross entropy loss since we are looking at character class scores as output. We calculate the loss and perform backpropagation, as usual!\n",
    "\n",
    "A couple of details about training: \n",
    ">* Within the batch loop, we detach the hidden state from its history; this time setting it equal to a new *tuple* variable because an LSTM has a hidden state that is a tuple of the hidden and cell states.\n",
    "* We use [`clip_grad_norm_`](https://pytorch.org/docs/stable/_modules/torch/nn/utils/clip_grad.html) to help prevent exploding gradients."
   ]
  },
  {
   "cell_type": "code",
   "execution_count": 13,
   "metadata": {
    "collapsed": true
   },
   "outputs": [],
   "source": [
    "def train(net, data, epochs=10, batch_size=10, seq_length=50, lr=0.001, clip=5, val_frac=0.1, print_every=10):\n",
    "    ''' Training a network \n",
    "    \n",
    "        Arguments\n",
    "        ---------\n",
    "        \n",
    "        net: CharRNN network\n",
    "        data: text data to train the network\n",
    "        epochs: Number of epochs to train\n",
    "        batch_size: Number of mini-sequences per mini-batch, aka batch size\n",
    "        seq_length: Number of character steps per mini-batch\n",
    "        lr: learning rate\n",
    "        clip: gradient clipping\n",
    "        val_frac: Fraction of data to hold out for validation\n",
    "        print_every: Number of steps for printing training and validation loss\n",
    "    \n",
    "    '''\n",
    "    net.train()\n",
    "    \n",
    "    opt = torch.optim.Adam(net.parameters(), lr=lr)\n",
    "    criterion = nn.CrossEntropyLoss()\n",
    "    \n",
    "    # create training and validation data\n",
    "    val_idx = int(len(data)*(1-val_frac))\n",
    "    data, val_data = data[:val_idx], data[val_idx:]\n",
    "    \n",
    "    if(train_on_gpu):\n",
    "        net.cuda()\n",
    "    \n",
    "    counter = 0\n",
    "    n_chars = len(net.chars)\n",
    "    for e in range(epochs):\n",
    "        # initialize hidden state\n",
    "        h = net.init_hidden(batch_size)\n",
    "        \n",
    "        for x, y in get_batches(data, batch_size, seq_length):\n",
    "            counter += 1\n",
    "            \n",
    "            # One-hot encode our data and make them Torch tensors\n",
    "            x = one_hot_encode(x, n_chars)\n",
    "            inputs, targets = torch.from_numpy(x), torch.from_numpy(y)\n",
    "            \n",
    "            if(train_on_gpu):\n",
    "                inputs, targets = inputs.cuda(), targets.cuda()\n",
    "\n",
    "            # Creating new variables for the hidden state, otherwise\n",
    "            # we'd backprop through the entire training history\n",
    "            h = tuple([each.data for each in h])\n",
    "\n",
    "            # zero accumulated gradients\n",
    "            net.zero_grad()\n",
    "            \n",
    "            # get the output from the model\n",
    "            output, h = net(inputs, h)\n",
    "            \n",
    "            # calculate the loss and perform backprop\n",
    "            loss = criterion(output, targets.view(batch_size*seq_length).long())\n",
    "            loss.backward()\n",
    "            # `clip_grad_norm` helps prevent the exploding gradient problem in RNNs / LSTMs.\n",
    "            nn.utils.clip_grad_norm_(net.parameters(), clip)\n",
    "            opt.step()\n",
    "            \n",
    "            # loss stats\n",
    "            if counter % print_every == 0:\n",
    "                # Get validation loss\n",
    "                val_h = net.init_hidden(batch_size)\n",
    "                val_losses = []\n",
    "                net.eval()\n",
    "                for x, y in get_batches(val_data, batch_size, seq_length):\n",
    "                    # One-hot encode our data and make them Torch tensors\n",
    "                    x = one_hot_encode(x, n_chars)\n",
    "                    x, y = torch.from_numpy(x), torch.from_numpy(y)\n",
    "                    \n",
    "                    # Creating new variables for the hidden state, otherwise\n",
    "                    # we'd backprop through the entire training history\n",
    "                    val_h = tuple([each.data for each in val_h])\n",
    "                    \n",
    "                    inputs, targets = x, y\n",
    "                    if(train_on_gpu):\n",
    "                        inputs, targets = inputs.cuda(), targets.cuda()\n",
    "\n",
    "                    output, val_h = net(inputs, val_h)\n",
    "                    val_loss = criterion(output, targets.view(batch_size*seq_length).long())\n",
    "                \n",
    "                    val_losses.append(val_loss.item())\n",
    "                \n",
    "                net.train() # reset to train mode after iterationg through validation data\n",
    "                \n",
    "                print(\"Epoch: {}/{}...\".format(e+1, epochs),\n",
    "                      \"Step: {}...\".format(counter),\n",
    "                      \"Loss: {:.4f}...\".format(loss.item()),\n",
    "                      \"Val Loss: {:.4f}\".format(np.mean(val_losses)))"
   ]
  },
  {
   "cell_type": "markdown",
   "metadata": {},
   "source": [
    "## Instantiating the model\n",
    "\n",
    "Now we can actually train the network. First we'll create the network itself, with some given hyperparameters. Then, define the mini-batches sizes, and start training!"
   ]
  },
  {
   "cell_type": "code",
   "execution_count": 14,
   "metadata": {},
   "outputs": [
    {
     "name": "stdout",
     "output_type": "stream",
     "text": [
      "CharRNN(\n",
      "  (lstm): LSTM(83, 512, num_layers=2, batch_first=True, dropout=0.5)\n",
      "  (dropout): Dropout(p=0.5)\n",
      "  (fc): Linear(in_features=512, out_features=83, bias=True)\n",
      ")\n"
     ]
    }
   ],
   "source": [
    "# define and print the net\n",
    "n_hidden=512\n",
    "n_layers=2\n",
    "\n",
    "net = CharRNN(chars, n_hidden, n_layers)\n",
    "print(net)"
   ]
  },
  {
   "cell_type": "code",
   "execution_count": 15,
   "metadata": {
    "scrolled": true
   },
   "outputs": [
    {
     "name": "stdout",
     "output_type": "stream",
     "text": [
      "Epoch: 1/20... Step: 10... Loss: 3.2482... Val Loss: 3.2114\n",
      "Epoch: 1/20... Step: 20... Loss: 3.1410... Val Loss: 3.1354\n",
      "Epoch: 1/20... Step: 30... Loss: 3.1360... Val Loss: 3.1238\n",
      "Epoch: 1/20... Step: 40... Loss: 3.1139... Val Loss: 3.1195\n",
      "Epoch: 1/20... Step: 50... Loss: 3.1408... Val Loss: 3.1170\n",
      "Epoch: 1/20... Step: 60... Loss: 3.1161... Val Loss: 3.1144\n",
      "Epoch: 1/20... Step: 70... Loss: 3.1051... Val Loss: 3.1113\n",
      "Epoch: 1/20... Step: 80... Loss: 3.1133... Val Loss: 3.1029\n",
      "Epoch: 1/20... Step: 90... Loss: 3.1048... Val Loss: 3.0833\n",
      "Epoch: 1/20... Step: 100... Loss: 3.0508... Val Loss: 3.0351\n",
      "Epoch: 1/20... Step: 110... Loss: 2.9844... Val Loss: 2.9579\n",
      "Epoch: 1/20... Step: 120... Loss: 2.8520... Val Loss: 2.8698\n",
      "Epoch: 1/20... Step: 130... Loss: 2.7709... Val Loss: 2.7311\n",
      "Epoch: 2/20... Step: 140... Loss: 2.7156... Val Loss: 2.6316\n",
      "Epoch: 2/20... Step: 150... Loss: 2.5914... Val Loss: 2.5473\n",
      "Epoch: 2/20... Step: 160... Loss: 2.5292... Val Loss: 2.4892\n",
      "Epoch: 2/20... Step: 170... Loss: 2.4596... Val Loss: 2.4423\n",
      "Epoch: 2/20... Step: 180... Loss: 2.4390... Val Loss: 2.4093\n",
      "Epoch: 2/20... Step: 190... Loss: 2.3830... Val Loss: 2.3769\n",
      "Epoch: 2/20... Step: 200... Loss: 2.3723... Val Loss: 2.3445\n",
      "Epoch: 2/20... Step: 210... Loss: 2.3436... Val Loss: 2.3148\n",
      "Epoch: 2/20... Step: 220... Loss: 2.2939... Val Loss: 2.2818\n",
      "Epoch: 2/20... Step: 230... Loss: 2.2846... Val Loss: 2.2509\n",
      "Epoch: 2/20... Step: 240... Loss: 2.2627... Val Loss: 2.2227\n",
      "Epoch: 2/20... Step: 250... Loss: 2.1919... Val Loss: 2.1996\n",
      "Epoch: 2/20... Step: 260... Loss: 2.1661... Val Loss: 2.1744\n",
      "Epoch: 2/20... Step: 270... Loss: 2.1747... Val Loss: 2.1523\n",
      "Epoch: 3/20... Step: 280... Loss: 2.1612... Val Loss: 2.1336\n",
      "Epoch: 3/20... Step: 290... Loss: 2.1422... Val Loss: 2.1000\n",
      "Epoch: 3/20... Step: 300... Loss: 2.1086... Val Loss: 2.0798\n",
      "Epoch: 3/20... Step: 310... Loss: 2.0786... Val Loss: 2.0613\n",
      "Epoch: 3/20... Step: 320... Loss: 2.0523... Val Loss: 2.0378\n",
      "Epoch: 3/20... Step: 330... Loss: 2.0238... Val Loss: 2.0222\n",
      "Epoch: 3/20... Step: 340... Loss: 2.0444... Val Loss: 1.9995\n",
      "Epoch: 3/20... Step: 350... Loss: 2.0152... Val Loss: 1.9814\n",
      "Epoch: 3/20... Step: 360... Loss: 1.9430... Val Loss: 1.9665\n",
      "Epoch: 3/20... Step: 370... Loss: 1.9763... Val Loss: 1.9481\n",
      "Epoch: 3/20... Step: 380... Loss: 1.9566... Val Loss: 1.9345\n",
      "Epoch: 3/20... Step: 390... Loss: 1.9172... Val Loss: 1.9153\n",
      "Epoch: 3/20... Step: 400... Loss: 1.9015... Val Loss: 1.9021\n",
      "Epoch: 3/20... Step: 410... Loss: 1.9104... Val Loss: 1.8867\n",
      "Epoch: 4/20... Step: 420... Loss: 1.9027... Val Loss: 1.8719\n",
      "Epoch: 4/20... Step: 430... Loss: 1.8848... Val Loss: 1.8577\n",
      "Epoch: 4/20... Step: 440... Loss: 1.8724... Val Loss: 1.8445\n",
      "Epoch: 4/20... Step: 450... Loss: 1.8158... Val Loss: 1.8321\n",
      "Epoch: 4/20... Step: 460... Loss: 1.7973... Val Loss: 1.8220\n",
      "Epoch: 4/20... Step: 470... Loss: 1.8302... Val Loss: 1.8081\n",
      "Epoch: 4/20... Step: 480... Loss: 1.8078... Val Loss: 1.7975\n",
      "Epoch: 4/20... Step: 490... Loss: 1.8182... Val Loss: 1.7851\n",
      "Epoch: 4/20... Step: 500... Loss: 1.8034... Val Loss: 1.7736\n",
      "Epoch: 4/20... Step: 510... Loss: 1.7886... Val Loss: 1.7640\n",
      "Epoch: 4/20... Step: 520... Loss: 1.8058... Val Loss: 1.7547\n",
      "Epoch: 4/20... Step: 530... Loss: 1.7575... Val Loss: 1.7445\n",
      "Epoch: 4/20... Step: 540... Loss: 1.7292... Val Loss: 1.7370\n",
      "Epoch: 4/20... Step: 550... Loss: 1.7692... Val Loss: 1.7253\n",
      "Epoch: 5/20... Step: 560... Loss: 1.7331... Val Loss: 1.7184\n",
      "Epoch: 5/20... Step: 570... Loss: 1.7250... Val Loss: 1.7056\n",
      "Epoch: 5/20... Step: 580... Loss: 1.6994... Val Loss: 1.6949\n",
      "Epoch: 5/20... Step: 590... Loss: 1.6999... Val Loss: 1.6887\n",
      "Epoch: 5/20... Step: 600... Loss: 1.6930... Val Loss: 1.6822\n",
      "Epoch: 5/20... Step: 610... Loss: 1.6770... Val Loss: 1.6757\n",
      "Epoch: 5/20... Step: 620... Loss: 1.6782... Val Loss: 1.6705\n",
      "Epoch: 5/20... Step: 630... Loss: 1.7051... Val Loss: 1.6594\n",
      "Epoch: 5/20... Step: 640... Loss: 1.6475... Val Loss: 1.6531\n",
      "Epoch: 5/20... Step: 650... Loss: 1.6617... Val Loss: 1.6462\n",
      "Epoch: 5/20... Step: 660... Loss: 1.6298... Val Loss: 1.6378\n",
      "Epoch: 5/20... Step: 670... Loss: 1.6466... Val Loss: 1.6343\n",
      "Epoch: 5/20... Step: 680... Loss: 1.6483... Val Loss: 1.6273\n",
      "Epoch: 5/20... Step: 690... Loss: 1.6326... Val Loss: 1.6203\n",
      "Epoch: 6/20... Step: 700... Loss: 1.6298... Val Loss: 1.6155\n",
      "Epoch: 6/20... Step: 710... Loss: 1.6189... Val Loss: 1.6099\n",
      "Epoch: 6/20... Step: 720... Loss: 1.6038... Val Loss: 1.6019\n",
      "Epoch: 6/20... Step: 730... Loss: 1.6189... Val Loss: 1.5949\n",
      "Epoch: 6/20... Step: 740... Loss: 1.5844... Val Loss: 1.5916\n",
      "Epoch: 6/20... Step: 750... Loss: 1.5705... Val Loss: 1.5838\n",
      "Epoch: 6/20... Step: 760... Loss: 1.6029... Val Loss: 1.5829\n",
      "Epoch: 6/20... Step: 770... Loss: 1.5919... Val Loss: 1.5786\n",
      "Epoch: 6/20... Step: 780... Loss: 1.5683... Val Loss: 1.5708\n",
      "Epoch: 6/20... Step: 790... Loss: 1.5492... Val Loss: 1.5678\n",
      "Epoch: 6/20... Step: 800... Loss: 1.5784... Val Loss: 1.5631\n",
      "Epoch: 6/20... Step: 810... Loss: 1.5611... Val Loss: 1.5589\n",
      "Epoch: 6/20... Step: 820... Loss: 1.5152... Val Loss: 1.5521\n",
      "Epoch: 6/20... Step: 830... Loss: 1.5756... Val Loss: 1.5487\n",
      "Epoch: 7/20... Step: 840... Loss: 1.5236... Val Loss: 1.5427\n",
      "Epoch: 7/20... Step: 850... Loss: 1.5457... Val Loss: 1.5427\n",
      "Epoch: 7/20... Step: 860... Loss: 1.5223... Val Loss: 1.5339\n",
      "Epoch: 7/20... Step: 870... Loss: 1.5323... Val Loss: 1.5283\n",
      "Epoch: 7/20... Step: 880... Loss: 1.5344... Val Loss: 1.5250\n",
      "Epoch: 7/20... Step: 890... Loss: 1.5340... Val Loss: 1.5217\n",
      "Epoch: 7/20... Step: 900... Loss: 1.5128... Val Loss: 1.5206\n",
      "Epoch: 7/20... Step: 910... Loss: 1.4882... Val Loss: 1.5201\n",
      "Epoch: 7/20... Step: 920... Loss: 1.5208... Val Loss: 1.5138\n",
      "Epoch: 7/20... Step: 930... Loss: 1.4947... Val Loss: 1.5096\n",
      "Epoch: 7/20... Step: 940... Loss: 1.4995... Val Loss: 1.5051\n",
      "Epoch: 7/20... Step: 950... Loss: 1.5136... Val Loss: 1.5007\n",
      "Epoch: 7/20... Step: 960... Loss: 1.5143... Val Loss: 1.4966\n",
      "Epoch: 7/20... Step: 970... Loss: 1.5095... Val Loss: 1.5004\n",
      "Epoch: 8/20... Step: 980... Loss: 1.4829... Val Loss: 1.4945\n",
      "Epoch: 8/20... Step: 990... Loss: 1.4891... Val Loss: 1.4878\n",
      "Epoch: 8/20... Step: 1000... Loss: 1.4794... Val Loss: 1.4834\n",
      "Epoch: 8/20... Step: 1010... Loss: 1.5210... Val Loss: 1.4804\n",
      "Epoch: 8/20... Step: 1020... Loss: 1.4882... Val Loss: 1.4778\n",
      "Epoch: 8/20... Step: 1030... Loss: 1.4722... Val Loss: 1.4736\n",
      "Epoch: 8/20... Step: 1040... Loss: 1.4865... Val Loss: 1.4733\n",
      "Epoch: 8/20... Step: 1050... Loss: 1.4553... Val Loss: 1.4747\n",
      "Epoch: 8/20... Step: 1060... Loss: 1.4647... Val Loss: 1.4654\n",
      "Epoch: 8/20... Step: 1070... Loss: 1.4727... Val Loss: 1.4644\n",
      "Epoch: 8/20... Step: 1080... Loss: 1.4652... Val Loss: 1.4622\n",
      "Epoch: 8/20... Step: 1090... Loss: 1.4416... Val Loss: 1.4591\n",
      "Epoch: 8/20... Step: 1100... Loss: 1.4400... Val Loss: 1.4560\n",
      "Epoch: 8/20... Step: 1110... Loss: 1.4567... Val Loss: 1.4523\n",
      "Epoch: 9/20... Step: 1120... Loss: 1.4561... Val Loss: 1.4521\n",
      "Epoch: 9/20... Step: 1130... Loss: 1.4460... Val Loss: 1.4495\n",
      "Epoch: 9/20... Step: 1140... Loss: 1.4466... Val Loss: 1.4437\n",
      "Epoch: 9/20... Step: 1150... Loss: 1.4679... Val Loss: 1.4423\n",
      "Epoch: 9/20... Step: 1160... Loss: 1.4279... Val Loss: 1.4398\n",
      "Epoch: 9/20... Step: 1170... Loss: 1.4303... Val Loss: 1.4372\n",
      "Epoch: 9/20... Step: 1180... Loss: 1.4196... Val Loss: 1.4382\n",
      "Epoch: 9/20... Step: 1190... Loss: 1.4541... Val Loss: 1.4338\n",
      "Epoch: 9/20... Step: 1200... Loss: 1.4059... Val Loss: 1.4305\n",
      "Epoch: 9/20... Step: 1210... Loss: 1.4142... Val Loss: 1.4277\n",
      "Epoch: 9/20... Step: 1220... Loss: 1.4176... Val Loss: 1.4261\n",
      "Epoch: 9/20... Step: 1230... Loss: 1.4006... Val Loss: 1.4275\n",
      "Epoch: 9/20... Step: 1240... Loss: 1.4079... Val Loss: 1.4239\n",
      "Epoch: 9/20... Step: 1250... Loss: 1.4157... Val Loss: 1.4224\n",
      "Epoch: 10/20... Step: 1260... Loss: 1.4191... Val Loss: 1.4196\n",
      "Epoch: 10/20... Step: 1270... Loss: 1.4144... Val Loss: 1.4178\n",
      "Epoch: 10/20... Step: 1280... Loss: 1.4276... Val Loss: 1.4137\n",
      "Epoch: 10/20... Step: 1290... Loss: 1.4112... Val Loss: 1.4160\n",
      "Epoch: 10/20... Step: 1300... Loss: 1.3895... Val Loss: 1.4108\n",
      "Epoch: 10/20... Step: 1310... Loss: 1.4017... Val Loss: 1.4084\n",
      "Epoch: 10/20... Step: 1320... Loss: 1.3792... Val Loss: 1.4094\n",
      "Epoch: 10/20... Step: 1330... Loss: 1.3848... Val Loss: 1.4071\n",
      "Epoch: 10/20... Step: 1340... Loss: 1.3680... Val Loss: 1.4056\n",
      "Epoch: 10/20... Step: 1350... Loss: 1.3753... Val Loss: 1.4014\n",
      "Epoch: 10/20... Step: 1360... Loss: 1.3737... Val Loss: 1.3971\n",
      "Epoch: 10/20... Step: 1370... Loss: 1.3583... Val Loss: 1.4007\n",
      "Epoch: 10/20... Step: 1380... Loss: 1.4051... Val Loss: 1.3960\n",
      "Epoch: 10/20... Step: 1390... Loss: 1.4199... Val Loss: 1.3956\n",
      "Epoch: 11/20... Step: 1400... Loss: 1.4129... Val Loss: 1.3954\n",
      "Epoch: 11/20... Step: 1410... Loss: 1.4208... Val Loss: 1.3943\n",
      "Epoch: 11/20... Step: 1420... Loss: 1.4071... Val Loss: 1.3881\n",
      "Epoch: 11/20... Step: 1430... Loss: 1.3801... Val Loss: 1.3923\n",
      "Epoch: 11/20... Step: 1440... Loss: 1.4088... Val Loss: 1.3927\n",
      "Epoch: 11/20... Step: 1450... Loss: 1.3344... Val Loss: 1.3870\n",
      "Epoch: 11/20... Step: 1460... Loss: 1.3599... Val Loss: 1.3864\n",
      "Epoch: 11/20... Step: 1470... Loss: 1.3470... Val Loss: 1.3850\n",
      "Epoch: 11/20... Step: 1480... Loss: 1.3596... Val Loss: 1.3819\n",
      "Epoch: 11/20... Step: 1490... Loss: 1.3603... Val Loss: 1.3798\n",
      "Epoch: 11/20... Step: 1500... Loss: 1.3483... Val Loss: 1.3807\n",
      "Epoch: 11/20... Step: 1510... Loss: 1.3253... Val Loss: 1.3807\n",
      "Epoch: 11/20... Step: 1520... Loss: 1.3710... Val Loss: 1.3751\n",
      "Epoch: 12/20... Step: 1530... Loss: 1.4196... Val Loss: 1.3775\n",
      "Epoch: 12/20... Step: 1540... Loss: 1.3718... Val Loss: 1.3752\n",
      "Epoch: 12/20... Step: 1550... Loss: 1.3842... Val Loss: 1.3743\n",
      "Epoch: 12/20... Step: 1560... Loss: 1.3866... Val Loss: 1.3698\n",
      "Epoch: 12/20... Step: 1570... Loss: 1.3444... Val Loss: 1.3744\n",
      "Epoch: 12/20... Step: 1580... Loss: 1.3167... Val Loss: 1.3729\n",
      "Epoch: 12/20... Step: 1590... Loss: 1.3057... Val Loss: 1.3692\n",
      "Epoch: 12/20... Step: 1600... Loss: 1.3297... Val Loss: 1.3698\n",
      "Epoch: 12/20... Step: 1610... Loss: 1.3380... Val Loss: 1.3704\n",
      "Epoch: 12/20... Step: 1620... Loss: 1.3254... Val Loss: 1.3650\n",
      "Epoch: 12/20... Step: 1630... Loss: 1.3539... Val Loss: 1.3628\n",
      "Epoch: 12/20... Step: 1640... Loss: 1.3310... Val Loss: 1.3656\n",
      "Epoch: 12/20... Step: 1650... Loss: 1.3040... Val Loss: 1.3641\n",
      "Epoch: 12/20... Step: 1660... Loss: 1.3597... Val Loss: 1.3606\n",
      "Epoch: 13/20... Step: 1670... Loss: 1.3311... Val Loss: 1.3615\n",
      "Epoch: 13/20... Step: 1680... Loss: 1.3349... Val Loss: 1.3575\n",
      "Epoch: 13/20... Step: 1690... Loss: 1.3168... Val Loss: 1.3589\n",
      "Epoch: 13/20... Step: 1700... Loss: 1.3228... Val Loss: 1.3540\n",
      "Epoch: 13/20... Step: 1710... Loss: 1.2991... Val Loss: 1.3595\n",
      "Epoch: 13/20... Step: 1720... Loss: 1.3131... Val Loss: 1.3567\n",
      "Epoch: 13/20... Step: 1730... Loss: 1.3383... Val Loss: 1.3541\n",
      "Epoch: 13/20... Step: 1740... Loss: 1.3161... Val Loss: 1.3528\n",
      "Epoch: 13/20... Step: 1750... Loss: 1.2798... Val Loss: 1.3588\n",
      "Epoch: 13/20... Step: 1760... Loss: 1.3097... Val Loss: 1.3541\n",
      "Epoch: 13/20... Step: 1770... Loss: 1.3252... Val Loss: 1.3523\n",
      "Epoch: 13/20... Step: 1780... Loss: 1.3103... Val Loss: 1.3512\n",
      "Epoch: 13/20... Step: 1790... Loss: 1.2921... Val Loss: 1.3480\n",
      "Epoch: 13/20... Step: 1800... Loss: 1.3165... Val Loss: 1.3468\n",
      "Epoch: 14/20... Step: 1810... Loss: 1.3175... Val Loss: 1.3458\n",
      "Epoch: 14/20... Step: 1820... Loss: 1.3055... Val Loss: 1.3433\n",
      "Epoch: 14/20... Step: 1830... Loss: 1.3234... Val Loss: 1.3466\n",
      "Epoch: 14/20... Step: 1840... Loss: 1.2678... Val Loss: 1.3471\n",
      "Epoch: 14/20... Step: 1850... Loss: 1.2659... Val Loss: 1.3489\n",
      "Epoch: 14/20... Step: 1860... Loss: 1.3215... Val Loss: 1.3451\n",
      "Epoch: 14/20... Step: 1870... Loss: 1.3197... Val Loss: 1.3400\n",
      "Epoch: 14/20... Step: 1880... Loss: 1.3095... Val Loss: 1.3424\n",
      "Epoch: 14/20... Step: 1890... Loss: 1.3336... Val Loss: 1.3434\n",
      "Epoch: 14/20... Step: 1900... Loss: 1.3067... Val Loss: 1.3394\n",
      "Epoch: 14/20... Step: 1910... Loss: 1.3049... Val Loss: 1.3380\n",
      "Epoch: 14/20... Step: 1920... Loss: 1.3004... Val Loss: 1.3395\n",
      "Epoch: 14/20... Step: 1930... Loss: 1.2739... Val Loss: 1.3377\n",
      "Epoch: 14/20... Step: 1940... Loss: 1.3157... Val Loss: 1.3353\n",
      "Epoch: 15/20... Step: 1950... Loss: 1.2943... Val Loss: 1.3358\n",
      "Epoch: 15/20... Step: 1960... Loss: 1.2895... Val Loss: 1.3343\n",
      "Epoch: 15/20... Step: 1970... Loss: 1.2929... Val Loss: 1.3315\n",
      "Epoch: 15/20... Step: 1980... Loss: 1.2891... Val Loss: 1.3335\n",
      "Epoch: 15/20... Step: 1990... Loss: 1.2827... Val Loss: 1.3371\n",
      "Epoch: 15/20... Step: 2000... Loss: 1.2699... Val Loss: 1.3355\n",
      "Epoch: 15/20... Step: 2010... Loss: 1.2878... Val Loss: 1.3301\n",
      "Epoch: 15/20... Step: 2020... Loss: 1.3037... Val Loss: 1.3344\n",
      "Epoch: 15/20... Step: 2030... Loss: 1.2671... Val Loss: 1.3342\n",
      "Epoch: 15/20... Step: 2040... Loss: 1.2919... Val Loss: 1.3325\n",
      "Epoch: 15/20... Step: 2050... Loss: 1.2736... Val Loss: 1.3303\n",
      "Epoch: 15/20... Step: 2060... Loss: 1.2852... Val Loss: 1.3279\n",
      "Epoch: 15/20... Step: 2070... Loss: 1.2926... Val Loss: 1.3213\n",
      "Epoch: 15/20... Step: 2080... Loss: 1.2809... Val Loss: 1.3224\n",
      "Epoch: 16/20... Step: 2090... Loss: 1.2955... Val Loss: 1.3228\n",
      "Epoch: 16/20... Step: 2100... Loss: 1.2697... Val Loss: 1.3226\n",
      "Epoch: 16/20... Step: 2110... Loss: 1.2672... Val Loss: 1.3233\n",
      "Epoch: 16/20... Step: 2120... Loss: 1.2819... Val Loss: 1.3234\n",
      "Epoch: 16/20... Step: 2130... Loss: 1.2560... Val Loss: 1.3248\n",
      "Epoch: 16/20... Step: 2140... Loss: 1.2631... Val Loss: 1.3232\n",
      "Epoch: 16/20... Step: 2150... Loss: 1.2937... Val Loss: 1.3202\n",
      "Epoch: 16/20... Step: 2160... Loss: 1.2618... Val Loss: 1.3238\n",
      "Epoch: 16/20... Step: 2170... Loss: 1.2633... Val Loss: 1.3237\n",
      "Epoch: 16/20... Step: 2180... Loss: 1.2604... Val Loss: 1.3224\n",
      "Epoch: 16/20... Step: 2190... Loss: 1.2807... Val Loss: 1.3211\n",
      "Epoch: 16/20... Step: 2200... Loss: 1.2664... Val Loss: 1.3189\n",
      "Epoch: 16/20... Step: 2210... Loss: 1.2232... Val Loss: 1.3150\n",
      "Epoch: 16/20... Step: 2220... Loss: 1.2737... Val Loss: 1.3184\n",
      "Epoch: 17/20... Step: 2230... Loss: 1.2517... Val Loss: 1.3176\n",
      "Epoch: 17/20... Step: 2240... Loss: 1.2480... Val Loss: 1.3181\n",
      "Epoch: 17/20... Step: 2250... Loss: 1.2364... Val Loss: 1.3136\n",
      "Epoch: 17/20... Step: 2260... Loss: 1.2542... Val Loss: 1.3144\n",
      "Epoch: 17/20... Step: 2270... Loss: 1.2624... Val Loss: 1.3179\n",
      "Epoch: 17/20... Step: 2280... Loss: 1.2746... Val Loss: 1.3178\n",
      "Epoch: 17/20... Step: 2290... Loss: 1.2668... Val Loss: 1.3142\n",
      "Epoch: 17/20... Step: 2300... Loss: 1.2300... Val Loss: 1.3199\n",
      "Epoch: 17/20... Step: 2310... Loss: 1.2596... Val Loss: 1.3183\n",
      "Epoch: 17/20... Step: 2320... Loss: 1.2488... Val Loss: 1.3139\n",
      "Epoch: 17/20... Step: 2330... Loss: 1.2533... Val Loss: 1.3163\n",
      "Epoch: 17/20... Step: 2340... Loss: 1.2689... Val Loss: 1.3139\n",
      "Epoch: 17/20... Step: 2350... Loss: 1.2705... Val Loss: 1.3107\n",
      "Epoch: 17/20... Step: 2360... Loss: 1.2696... Val Loss: 1.3130\n",
      "Epoch: 18/20... Step: 2370... Loss: 1.2372... Val Loss: 1.3079\n",
      "Epoch: 18/20... Step: 2380... Loss: 1.2402... Val Loss: 1.3094\n",
      "Epoch: 18/20... Step: 2390... Loss: 1.2515... Val Loss: 1.3089\n",
      "Epoch: 18/20... Step: 2400... Loss: 1.2753... Val Loss: 1.3081\n",
      "Epoch: 18/20... Step: 2410... Loss: 1.2641... Val Loss: 1.3094\n",
      "Epoch: 18/20... Step: 2420... Loss: 1.2459... Val Loss: 1.3057\n",
      "Epoch: 18/20... Step: 2430... Loss: 1.2597... Val Loss: 1.3067\n",
      "Epoch: 18/20... Step: 2440... Loss: 1.2370... Val Loss: 1.3081\n",
      "Epoch: 18/20... Step: 2450... Loss: 1.2314... Val Loss: 1.3043\n",
      "Epoch: 18/20... Step: 2460... Loss: 1.2521... Val Loss: 1.3043\n",
      "Epoch: 18/20... Step: 2470... Loss: 1.2417... Val Loss: 1.3069\n",
      "Epoch: 18/20... Step: 2480... Loss: 1.2324... Val Loss: 1.3054\n",
      "Epoch: 18/20... Step: 2490... Loss: 1.2297... Val Loss: 1.3019\n",
      "Epoch: 18/20... Step: 2500... Loss: 1.2282... Val Loss: 1.3038\n",
      "Epoch: 19/20... Step: 2510... Loss: 1.2360... Val Loss: 1.3056\n",
      "Epoch: 19/20... Step: 2520... Loss: 1.2464... Val Loss: 1.3032\n",
      "Epoch: 19/20... Step: 2530... Loss: 1.2523... Val Loss: 1.2980\n",
      "Epoch: 19/20... Step: 2540... Loss: 1.2623... Val Loss: 1.3016\n",
      "Epoch: 19/20... Step: 2550... Loss: 1.2296... Val Loss: 1.3026\n",
      "Epoch: 19/20... Step: 2560... Loss: 1.2345... Val Loss: 1.2996\n",
      "Epoch: 19/20... Step: 2570... Loss: 1.2265... Val Loss: 1.2992\n",
      "Epoch: 19/20... Step: 2580... Loss: 1.2649... Val Loss: 1.2984\n",
      "Epoch: 19/20... Step: 2590... Loss: 1.2177... Val Loss: 1.2993\n",
      "Epoch: 19/20... Step: 2600... Loss: 1.2174... Val Loss: 1.2952\n",
      "Epoch: 19/20... Step: 2610... Loss: 1.2284... Val Loss: 1.2975\n",
      "Epoch: 19/20... Step: 2620... Loss: 1.2137... Val Loss: 1.2962\n",
      "Epoch: 19/20... Step: 2630... Loss: 1.2231... Val Loss: 1.2972\n",
      "Epoch: 19/20... Step: 2640... Loss: 1.2337... Val Loss: 1.2998\n",
      "Epoch: 20/20... Step: 2650... Loss: 1.2263... Val Loss: 1.2995\n",
      "Epoch: 20/20... Step: 2660... Loss: 1.2451... Val Loss: 1.2973\n",
      "Epoch: 20/20... Step: 2670... Loss: 1.2533... Val Loss: 1.2932\n",
      "Epoch: 20/20... Step: 2680... Loss: 1.2300... Val Loss: 1.2944\n",
      "Epoch: 20/20... Step: 2690... Loss: 1.2325... Val Loss: 1.2981\n",
      "Epoch: 20/20... Step: 2700... Loss: 1.2327... Val Loss: 1.2951\n",
      "Epoch: 20/20... Step: 2710... Loss: 1.2025... Val Loss: 1.2988\n",
      "Epoch: 20/20... Step: 2720... Loss: 1.2114... Val Loss: 1.2968\n",
      "Epoch: 20/20... Step: 2730... Loss: 1.2085... Val Loss: 1.2936\n",
      "Epoch: 20/20... Step: 2740... Loss: 1.2006... Val Loss: 1.2926\n",
      "Epoch: 20/20... Step: 2750... Loss: 1.2099... Val Loss: 1.2921\n",
      "Epoch: 20/20... Step: 2760... Loss: 1.2045... Val Loss: 1.2917\n",
      "Epoch: 20/20... Step: 2770... Loss: 1.2393... Val Loss: 1.2932\n",
      "Epoch: 20/20... Step: 2780... Loss: 1.2661... Val Loss: 1.2952\n"
     ]
    }
   ],
   "source": [
    "batch_size = 128\n",
    "seq_length = 100\n",
    "n_epochs = 20 # start smaller if you are just testing initial behavior\n",
    "\n",
    "# train the model\n",
    "train(net, encoded, epochs=n_epochs, batch_size=batch_size, seq_length=seq_length, lr=0.001, print_every=10)"
   ]
  },
  {
   "cell_type": "markdown",
   "metadata": {},
   "source": [
    "## Getting the best model\n",
    "\n",
    "To set your hyperparameters to get the best performance, you'll want to watch the training and validation losses. If your training loss is much lower than the validation loss, you're overfitting. Increase regularization (more dropout) or use a smaller network. If the training and validation losses are close, you're underfitting so you can increase the size of the network."
   ]
  },
  {
   "cell_type": "markdown",
   "metadata": {},
   "source": [
    "## Hyperparameters\n",
    "\n",
    "Here are the hyperparameters for the network.\n",
    "\n",
    "In defining the model:\n",
    "* `n_hidden` - The number of units in the hidden layers.\n",
    "* `n_layers` - Number of hidden LSTM layers to use.\n",
    "\n",
    "We assume that dropout probability and learning rate will be kept at the default, in this example.\n",
    "\n",
    "And in training:\n",
    "* `batch_size` - Number of sequences running through the network in one pass.\n",
    "* `seq_length` - Number of characters in the sequence the network is trained on. Larger is better typically, the network will learn more long range dependencies. But it takes longer to train. 100 is typically a good number here.\n",
    "* `lr` - Learning rate for training\n",
    "\n",
    "Here's some good advice from Andrej Karpathy on training the network. I'm going to copy it in here for your benefit, but also link to [where it originally came from](https://github.com/karpathy/char-rnn#tips-and-tricks).\n",
    "\n",
    "> ## Tips and Tricks\n",
    "\n",
    ">### Monitoring Validation Loss vs. Training Loss\n",
    ">If you're somewhat new to Machine Learning or Neural Networks it can take a bit of expertise to get good models. The most important quantity to keep track of is the difference between your training loss (printed during training) and the validation loss (printed once in a while when the RNN is run on the validation data (by default every 1000 iterations)). In particular:\n",
    "\n",
    "> - If your training loss is much lower than validation loss then this means the network might be **overfitting**. Solutions to this are to decrease your network size, or to increase dropout. For example you could try dropout of 0.5 and so on.\n",
    "> - If your training/validation loss are about equal then your model is **underfitting**. Increase the size of your model (either number of layers or the raw number of neurons per layer)\n",
    "\n",
    "> ### Approximate number of parameters\n",
    "\n",
    "> The two most important parameters that control the model are `n_hidden` and `n_layers`. I would advise that you always use `n_layers` of either 2/3. The `n_hidden` can be adjusted based on how much data you have. The two important quantities to keep track of here are:\n",
    "\n",
    "> - The number of parameters in your model. This is printed when you start training.\n",
    "> - The size of your dataset. 1MB file is approximately 1 million characters.\n",
    "\n",
    ">These two should be about the same order of magnitude. It's a little tricky to tell. Here are some examples:\n",
    "\n",
    "> - I have a 100MB dataset and I'm using the default parameter settings (which currently print 150K parameters). My data size is significantly larger (100 mil >> 0.15 mil), so I expect to heavily underfit. I am thinking I can comfortably afford to make `n_hidden` larger.\n",
    "> - I have a 10MB dataset and running a 10 million parameter model. I'm slightly nervous and I'm carefully monitoring my validation loss. If it's larger than my training loss then I may want to try to increase dropout a bit and see if that helps the validation loss.\n",
    "\n",
    "> ### Best models strategy\n",
    "\n",
    ">The winning strategy to obtaining very good models (if you have the compute time) is to always err on making the network larger (as large as you're willing to wait for it to compute) and then try different dropout values (between 0,1). Whatever model has the best validation performance (the loss, written in the checkpoint filename, low is good) is the one you should use in the end.\n",
    "\n",
    ">It is very common in deep learning to run many different models with many different hyperparameter settings, and in the end take whatever checkpoint gave the best validation performance.\n",
    "\n",
    ">By the way, the size of your training and validation splits are also parameters. Make sure you have a decent amount of data in your validation set or otherwise the validation performance will be noisy and not very informative."
   ]
  },
  {
   "cell_type": "markdown",
   "metadata": {},
   "source": [
    "## Checkpoint\n",
    "\n",
    "After training, we'll save the model so we can load it again later if we need too. Here I'm saving the parameters needed to create the same architecture, the hidden layer hyperparameters and the text characters."
   ]
  },
  {
   "cell_type": "code",
   "execution_count": 16,
   "metadata": {
    "collapsed": true
   },
   "outputs": [],
   "source": [
    "# change the name, for saving multiple files\n",
    "model_name = 'rnn_20_epoch.net'\n",
    "\n",
    "checkpoint = {'n_hidden': net.n_hidden,\n",
    "              'n_layers': net.n_layers,\n",
    "              'state_dict': net.state_dict(),\n",
    "              'tokens': net.chars}\n",
    "\n",
    "with open(model_name, 'wb') as f:\n",
    "    torch.save(checkpoint, f)"
   ]
  },
  {
   "cell_type": "markdown",
   "metadata": {},
   "source": [
    "---\n",
    "## Making Predictions\n",
    "\n",
    "Now that the model is trained, we'll want to sample from it and make predictions about next characters! To sample, we pass in a character and have the network predict the next character. Then we take that character, pass it back in, and get another predicted character. Just keep doing this and you'll generate a bunch of text!\n",
    "\n",
    "### A note on the `predict`  function\n",
    "\n",
    "The output of our RNN is from a fully-connected layer and it outputs a **distribution of next-character scores**.\n",
    "\n",
    "> To actually get the next character, we apply a softmax function, which gives us a *probability* distribution that we can then sample to predict the next character.\n",
    "\n",
    "### Top K sampling\n",
    "\n",
    "Our predictions come from a categorical probability distribution over all the possible characters. We can make the sample text and make it more reasonable to handle (with less variables) by only considering some $K$ most probable characters. This will prevent the network from giving us completely absurd characters while allowing it to introduce some noise and randomness into the sampled text. Read more about [topk, here](https://pytorch.org/docs/stable/torch.html#torch.topk).\n"
   ]
  },
  {
   "cell_type": "code",
   "execution_count": 17,
   "metadata": {
    "collapsed": true
   },
   "outputs": [],
   "source": [
    "def predict(net, char, h=None, top_k=None):\n",
    "        ''' Given a character, predict the next character.\n",
    "            Returns the predicted character and the hidden state.\n",
    "        '''\n",
    "        \n",
    "        # tensor inputs\n",
    "        x = np.array([[net.char2int[char]]])\n",
    "        x = one_hot_encode(x, len(net.chars))\n",
    "        inputs = torch.from_numpy(x)\n",
    "        \n",
    "        if(train_on_gpu):\n",
    "            inputs = inputs.cuda()\n",
    "        \n",
    "        # detach hidden state from history\n",
    "        h = tuple([each.data for each in h])\n",
    "        # get the output of the model\n",
    "        out, h = net(inputs, h)\n",
    "\n",
    "        # get the character probabilities\n",
    "        p = F.softmax(out, dim=1).data\n",
    "        if(train_on_gpu):\n",
    "            p = p.cpu() # move to cpu\n",
    "        \n",
    "        # get top characters\n",
    "        if top_k is None:\n",
    "            top_ch = np.arange(len(net.chars))\n",
    "        else:\n",
    "            p, top_ch = p.topk(top_k)\n",
    "            top_ch = top_ch.numpy().squeeze()\n",
    "        \n",
    "        # select the likely next character with some element of randomness\n",
    "        p = p.numpy().squeeze()\n",
    "        char = np.random.choice(top_ch, p=p/p.sum())\n",
    "        \n",
    "        # return the encoded value of the predicted char and the hidden state\n",
    "        return net.int2char[char], h"
   ]
  },
  {
   "cell_type": "markdown",
   "metadata": {},
   "source": [
    "### Priming and generating text \n",
    "\n",
    "Typically you'll want to prime the network so you can build up a hidden state. Otherwise the network will start out generating characters at random. In general the first bunch of characters will be a little rough since it hasn't built up a long history of characters to predict from."
   ]
  },
  {
   "cell_type": "code",
   "execution_count": 18,
   "metadata": {
    "collapsed": true
   },
   "outputs": [],
   "source": [
    "def sample(net, size, prime='The', top_k=None):\n",
    "        \n",
    "    if(train_on_gpu):\n",
    "        net.cuda()\n",
    "    else:\n",
    "        net.cpu()\n",
    "    \n",
    "    net.eval() # eval mode\n",
    "    \n",
    "    # First off, run through the prime characters\n",
    "    chars = [ch for ch in prime]\n",
    "    h = net.init_hidden(1)\n",
    "    for ch in prime:\n",
    "        char, h = predict(net, ch, h, top_k=top_k)\n",
    "\n",
    "    chars.append(char)\n",
    "    \n",
    "    # Now pass in the previous character and get a new one\n",
    "    for ii in range(size):\n",
    "        char, h = predict(net, chars[-1], h, top_k=top_k)\n",
    "        chars.append(char)\n",
    "\n",
    "    return ''.join(chars)"
   ]
  },
  {
   "cell_type": "code",
   "execution_count": 19,
   "metadata": {},
   "outputs": [
    {
     "name": "stdout",
     "output_type": "stream",
     "text": [
      "Anna had so that an enter strength to be says off and he cared to be an unmarrely sister.\n",
      "\n",
      "The children are saying in a place. A smile of their secretary and the sense of a condition. He saw that the princess was the same, the peaciting of his\n",
      "briderous country second still. That she had seen him a little as it was the simminest that he had not been\n",
      "the simple of\n",
      "the passion to see his finger, and\n",
      "his brother and the points he heard this place which\n",
      "he was not\n",
      "sense. All had sent him that he could he concealed the steps and that he was to be patied,\n",
      "so much at hands, at the servants who had said something with the\n",
      "chair.\n",
      " \"This is a solitat matter?\"\n",
      "\n",
      "\"It's not thinking in the more the point is and that he's talking of the drinking of the\n",
      "crain. If I was a memory. Have you\n",
      "seen my to thousard more\n",
      "characteribries, and this, and would be the framing of the most careful towards me, to the country too that they did nothind when she could not see him. What is\n",
      "it you want a conviluated more to mo\n"
     ]
    }
   ],
   "source": [
    "print(sample(net, 1000, prime='Anna', top_k=5))"
   ]
  },
  {
   "cell_type": "markdown",
   "metadata": {},
   "source": [
    "## Loading a checkpoint"
   ]
  },
  {
   "cell_type": "code",
   "execution_count": 20,
   "metadata": {
    "collapsed": true
   },
   "outputs": [],
   "source": [
    "# Here we have loaded in a model that trained over 20 epochs `rnn_20_epoch.net`\n",
    "with open('rnn_20_epoch.net', 'rb') as f:\n",
    "    checkpoint = torch.load(f)\n",
    "    \n",
    "loaded = CharRNN(checkpoint['tokens'], n_hidden=checkpoint['n_hidden'], n_layers=checkpoint['n_layers'])\n",
    "loaded.load_state_dict(checkpoint['state_dict'])"
   ]
  },
  {
   "cell_type": "code",
   "execution_count": 21,
   "metadata": {},
   "outputs": [
    {
     "name": "stdout",
     "output_type": "stream",
     "text": [
      "And Levin said those second portryit on the contrast.\n",
      "\n",
      "\"What is it?\" said Stepan Arkadyevitch,\n",
      "letting up his\n",
      "shirt and talking to her face. And he had\n",
      "not speak to Levin that his head on the round stop and\n",
      "trouble\n",
      "to be faint, as he\n",
      "was not a man who was said, she was the setter times that had been before so much talking in the steps of the door, his force to think of their sense of the sendence, both always bowing about in the country and the same time of her character and all at him with his face, and went out of her hand, sitting down beside\n",
      "the clothes, and\n",
      "the\n",
      "same\n",
      "single mind and when they seemed to a strange of his\n",
      "brother's.\n",
      "\n",
      "And he\n",
      "was so meched the paints was so standing the man had been a love was the man, and stopped at once in the first step. But he was\n",
      "a change to\n",
      "do. The sound of the partice say a construnting his\n",
      "steps and telling a single camp of the\n",
      "ready and three significance of the same forest.\n",
      "\n",
      "\"Yes, but you see it.\" He carried his face and the condition in their carriage to her, and to go, she\n",
      "said that had been talking of his forest, a strange world, when Levin came the conversation as sense of her son, and he could not see him to hive answer, which had been saking when at tomere within the\n",
      "counting her face that he was serenely from her she took a counting, there\n",
      "was the since he\n",
      "had too wearted and seemed to her,\" said the member of the cannors in the steps to his\n",
      "word.\n",
      "\n",
      "The moss of the convincing it had been drawing up the people that there was nothing without this way or a single wife as he did not hear\n",
      "him or that he was not seeing that she would be a court of the sound of some sound of the position, and to spartly she\n",
      "could\n",
      "see her and a sundroup times there was nothing this\n",
      "father and as she stoop serious in the sound, was a steps of the master, a few sistersily play of his husband. The crowd had no carreated herself, and truets, and shaking up, the pases, and the moment that he was not at the marshal, and the starling the secret were stopping to be\n"
     ]
    }
   ],
   "source": [
    "# Sample using a loaded model\n",
    "print(sample(loaded, 2000, top_k=5, prime=\"And Levin said\"))"
   ]
  },
  {
   "cell_type": "code",
   "execution_count": null,
   "metadata": {
    "collapsed": true
   },
   "outputs": [],
   "source": []
  }
 ],
 "metadata": {
  "kernelspec": {
   "display_name": "Python [default]",
   "language": "python",
   "name": "python3"
  },
  "language_info": {
   "codemirror_mode": {
    "name": "ipython",
    "version": 3
   },
   "file_extension": ".py",
   "mimetype": "text/x-python",
   "name": "python",
   "nbconvert_exporter": "python",
   "pygments_lexer": "ipython3",
   "version": "3.6.4"
  }
 },
 "nbformat": 4,
 "nbformat_minor": 2
}
